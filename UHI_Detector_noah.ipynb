{
 "cells": [
  {
   "cell_type": "code",
   "execution_count": 1,
   "metadata": {},
   "outputs": [],
   "source": [
    "import os\n",
    "import numpy as np\n",
    "import rasterio\n",
    "import matplotlib.pyplot as plt\n",
    "import geopandas as gpd\n",
    "from rasterio.features import geometry_mask\n",
    "from rasterio.transform import from_origin\n",
    "from shapely.geometry import mapping\n",
    "from sklearn.ensemble import RandomForestClassifier\n",
    "from sklearn.model_selection import train_test_split"
   ]
  },
  {
   "cell_type": "markdown",
   "metadata": {},
   "source": [
    "NDVI"
   ]
  },
  {
   "cell_type": "code",
   "execution_count": 2,
   "metadata": {},
   "outputs": [],
   "source": [
    "def calculate_ndvi(red_band_path, nir_band_path, output_path):\n",
    "    with rasterio.open(red_band_path) as red_src:\n",
    "        red = red_src.read(1).astype(float)\n",
    "        profile = red_src.profile\n",
    "\n",
    "    with rasterio.open(nir_band_path) as nir_src:\n",
    "        nir = nir_src.read(1).astype(float)\n",
    "\n",
    "    # Add small epsilon to avoid division by zero\n",
    "    epsilon = 1e-10\n",
    "    ndvi = (nir - red) / (nir + red + epsilon)\n",
    "    ndvi = np.clip(ndvi, -1, 1)\n",
    "    ndvi[~np.isfinite(ndvi)] = 0\n",
    "\n",
    "    profile.update(dtype=rasterio.float32, count=1)\n",
    "    with rasterio.open(output_path, 'w', **profile) as dst:\n",
    "        dst.write(ndvi.astype(rasterio.float32), 1)\n",
    "\n",
    "    return ndvi"
   ]
  },
  {
   "cell_type": "markdown",
   "metadata": {},
   "source": [
    "LST"
   ]
  },
  {
   "cell_type": "code",
   "execution_count": 3,
   "metadata": {},
   "outputs": [],
   "source": [
    "def calculate_lst(thermal_band_path, output_path):\n",
    "    with rasterio.open(thermal_band_path) as thermal_src:\n",
    "        thermal = thermal_src.read(1).astype(float)\n",
    "        profile = thermal_src.profile\n",
    "\n",
    "    # Convert DN to radiance and then to temperature\n",
    "    ML = 3.342e-4\n",
    "    AL = 0.1\n",
    "\n",
    "    radiance = thermal * ML + AL\n",
    "    lst = (radiance - 273.15)\n",
    "    lst[~np.isfinite(lst)] = np.nan\n",
    "\n",
    "    profile.update(dtype=rasterio.float32, count=1)\n",
    "    with rasterio.open(output_path, 'w', **profile) as dst:\n",
    "        dst.write(lst.astype(rasterio.float32), 1)\n",
    "\n",
    "    return lst"
   ]
  },
  {
   "cell_type": "markdown",
   "metadata": {},
   "source": [
    "RANDOM FOREST "
   ]
  },
  {
   "cell_type": "code",
   "execution_count": 4,
   "metadata": {},
   "outputs": [],
   "source": [
    "def random_forest_uhi_detection(lst, ndvi):\n",
    "    \"\"\"\n",
    "    Implements UHI detection using Random Forest algorithm\n",
    "    \"\"\"\n",
    "    def prepare_features(lst, ndvi):\n",
    "        # Flatten arrays\n",
    "        lst_flat = lst.flatten()\n",
    "        ndvi_flat = ndvi.flatten()\n",
    "        \n",
    "        # Create valid mask\n",
    "        valid_mask = (\n",
    "            np.isfinite(lst_flat) & \n",
    "            np.isfinite(ndvi_flat) & \n",
    "            (lst_flat != 0)\n",
    "        )\n",
    "        \n",
    "        # Extract valid data points\n",
    "        X = np.column_stack((\n",
    "            lst_flat[valid_mask],\n",
    "            ndvi_flat[valid_mask]\n",
    "        ))\n",
    "        \n",
    "        return X, valid_mask\n",
    "\n",
    "    def create_labels(X):\n",
    "        # Create labels using temperature threshold\n",
    "        lst_values = X[:, 0]\n",
    "        lst_mean = np.mean(lst_values)\n",
    "        lst_std = np.std(lst_values)\n",
    "        \n",
    "        # Define UHI thresholds\n",
    "        uhi_threshold = lst_mean + lst_std\n",
    "        \n",
    "        # Create labels (1 for UHI, 0 for non-UHI)\n",
    "        y = (lst_values >= uhi_threshold).astype(int)\n",
    "        \n",
    "        return y, uhi_threshold\n",
    "\n",
    "    # Prepare data\n",
    "    print(\"Preparing features...\")\n",
    "    X, valid_mask = prepare_features(lst, ndvi)\n",
    "    y, uhi_threshold = create_labels(X)\n",
    "    \n",
    "    # Split data for training\n",
    "    X_train, X_test, y_train, y_test = train_test_split(\n",
    "        X, y, test_size=0.2, random_state=42\n",
    "    )\n",
    "    \n",
    "    # Train Random Forest\n",
    "    print(\"Training Random Forest model...\")\n",
    "    rf_model = RandomForestClassifier(\n",
    "        n_estimators=100,\n",
    "        max_depth=10,\n",
    "        random_state=42,\n",
    "        n_jobs=-1\n",
    "    )\n",
    "    rf_model.fit(X_train, y_train)\n",
    "    \n",
    "    # Make predictions\n",
    "    print(\"Making predictions...\")\n",
    "    predictions = rf_model.predict(X)\n",
    "    \n",
    "    # Create output mask\n",
    "    uhi_mask = np.full(lst.shape, -1, dtype=np.int32)\n",
    "    uhi_mask.flat[valid_mask] = predictions\n",
    "    \n",
    "    # Calculate feature importance\n",
    "    feature_importance = {\n",
    "        'LST': rf_model.feature_importances_[0],\n",
    "        'NDVI': rf_model.feature_importances_[1]\n",
    "    }\n",
    "    \n",
    "    results = {\n",
    "        'uhi_mask': uhi_mask,\n",
    "        'model': rf_model,\n",
    "        'threshold': uhi_threshold,\n",
    "        'feature_importance': feature_importance,\n",
    "        'accuracy': rf_model.score(X_test, y_test)\n",
    "    }\n",
    "    \n",
    "    return results"
   ]
  },
  {
   "cell_type": "markdown",
   "metadata": {},
   "source": [
    "VISUALIZE RESULTS"
   ]
  },
  {
   "cell_type": "code",
   "execution_count": 5,
   "metadata": {},
   "outputs": [],
   "source": [
    "def visualize_results(uhi_mask, output_path, title='UHI Detection'):\n",
    "    \"\"\"\n",
    "    Visualize UHI detection results\n",
    "    \"\"\"\n",
    "    plt.figure(figsize=(10, 10))  # Square figure to maintain aspect ratio\n",
    "    \n",
    "    # Create custom colormap\n",
    "    cmap = plt.cm.RdBu_r\n",
    "    cmap.set_bad(color='white')  # Set color for masked areas\n",
    "    \n",
    "    # Plot the UHI mask\n",
    "    masked_data = np.ma.masked_where(uhi_mask == -1, uhi_mask)\n",
    "    im = plt.imshow(masked_data, cmap=cmap)\n",
    "    \n",
    "    # Add colorbar\n",
    "    cbar = plt.colorbar(im, fraction=0.046, pad=0.04)\n",
    "    cbar.set_ticks([0, 1])\n",
    "    cbar.set_ticklabels(['Non-UHI', 'UHI'])\n",
    "    \n",
    "    plt.title(title)\n",
    "    plt.axis('off')\n",
    "    plt.tight_layout()\n",
    "    plt.savefig(output_path, bbox_inches='tight', dpi=300)\n",
    "    plt.close()"
   ]
  },
  {
   "cell_type": "markdown",
   "metadata": {},
   "source": [
    "VISUALIZE NDVI"
   ]
  },
  {
   "cell_type": "code",
   "execution_count": 6,
   "metadata": {},
   "outputs": [],
   "source": [
    "def visualize_ndvi(ndvi, output_path):\n",
    "    \"\"\"\n",
    "    Visualize NDVI\n",
    "    \"\"\"\n",
    "    plt.figure(figsize=(10, 10))  # Square figure to maintain aspect ratio\n",
    "    cmap = plt.cm.YlGn\n",
    "    cmap.set_under(color='white')  # For low NDVI values\n",
    "\n",
    "    im = plt.imshow(ndvi, cmap=cmap, vmin=-1, vmax=1)\n",
    "    cbar = plt.colorbar(im, fraction=0.046, pad=0.04)\n",
    "    cbar.set_label('NDVI')\n",
    "    \n",
    "    plt.title('Normalized Difference Vegetation Index (NDVI)')\n",
    "    plt.axis('off')\n",
    "    plt.tight_layout()\n",
    "    plt.savefig(output_path, bbox_inches='tight', dpi=300)\n",
    "    plt.close()\n"
   ]
  },
  {
   "cell_type": "markdown",
   "metadata": {},
   "source": [
    "VISUALIZE LST"
   ]
  },
  {
   "cell_type": "code",
   "execution_count": 7,
   "metadata": {},
   "outputs": [],
   "source": [
    "def visualize_lst(lst, output_path):\n",
    "    \"\"\"\n",
    "    Visualize Land Surface Temperature (LST)\n",
    "    \"\"\"\n",
    "    plt.figure(figsize=(10, 10))  # Square figure to maintain aspect ratio\n",
    "    cmap = plt.cm.jet\n",
    "    cmap.set_bad(color='white')  # For NaN values\n",
    "\n",
    "    im = plt.imshow(lst, cmap=cmap)\n",
    "    cbar = plt.colorbar(im, fraction=0.046, pad=0.04)\n",
    "    cbar.set_label('Temperature (°C)')\n",
    "    \n",
    "    plt.title('Land Surface Temperature (LST)')\n",
    "    plt.axis('off')\n",
    "    plt.tight_layout()\n",
    "    plt.savefig(output_path, bbox_inches='tight', dpi=300)\n",
    "    plt.close()"
   ]
  },
  {
   "cell_type": "markdown",
   "metadata": {},
   "source": [
    "OSM OVERLAY"
   ]
  },
  {
   "cell_type": "code",
   "execution_count": 8,
   "metadata": {},
   "outputs": [],
   "source": [
    "def load_osm_boundary(boundary_file_path):\n",
    "    urban_boundary = gpd.read_file(boundary_file_path)\n",
    "    urban_boundary = urban_boundary.to_crs(\"EPSG:32617\")  # Adjust to match CRS of raster data\n",
    "    return urban_boundary"
   ]
  },
  {
   "cell_type": "code",
   "execution_count": 9,
   "metadata": {},
   "outputs": [],
   "source": [
    "def overlay_uhis_on_osm(uhi_mask, osm_boundary, output_path):\n",
    "    \"\"\"\n",
    "    Overlay UHI mask onto an OSM boundary and save as .TIF\n",
    "    \"\"\"\n",
    "    # Mask the UHI data to the OSM boundary\n",
    "    boundary_shapes = [mapping(geom) for geom in osm_boundary.geometry]\n",
    "    out_image = geometry_mask(boundary_shapes, transform=from_origin(240285.0, 4584615.0, 30, 30),\n",
    "                              invert=True, out_shape=uhi_mask.shape, all_touched=True)\n",
    "    uhi_mask[out_image == 0] = -1  # Mask outside boundary\n",
    "    \n",
    "    # Save the UHI overlay as GeoTIFF\n",
    "    with rasterio.open(output_path, 'w', driver='GTiff', \n",
    "                       height=uhi_mask.shape[0], width=uhi_mask.shape[1],\n",
    "                       count=1, dtype=rasterio.int32, crs=\"EPSG:32617\",\n",
    "                       transform=from_origin(240285.0, 4584615.0, 30, 30)) as dst:\n",
    "        dst.write(uhi_mask, 1)"
   ]
  },
  {
   "cell_type": "markdown",
   "metadata": {},
   "source": [
    "MAIN METHOD"
   ]
  },
  {
   "cell_type": "code",
   "execution_count": null,
   "metadata": {},
   "outputs": [
    {
     "name": "stdout",
     "output_type": "stream",
     "text": [
      "Calculating NDVI...\n"
     ]
    },
    {
     "ename": "RasterioIOError",
     "evalue": "./data/landsat/LC08_L1TP_020032_20240727_20240801_02_T1_B4.TIF: No such file or directory",
     "output_type": "error",
     "traceback": [
      "\u001b[1;31m---------------------------------------------------------------------------\u001b[0m",
      "\u001b[1;31mCPLE_OpenFailedError\u001b[0m                      Traceback (most recent call last)",
      "File \u001b[1;32mrasterio\\\\_base.pyx:310\u001b[0m, in \u001b[0;36mrasterio._base.DatasetBase.__init__\u001b[1;34m()\u001b[0m\n",
      "File \u001b[1;32mrasterio\\\\_base.pyx:221\u001b[0m, in \u001b[0;36mrasterio._base.open_dataset\u001b[1;34m()\u001b[0m\n",
      "File \u001b[1;32mrasterio\\\\_err.pyx:359\u001b[0m, in \u001b[0;36mrasterio._err.exc_wrap_pointer\u001b[1;34m()\u001b[0m\n",
      "\u001b[1;31mCPLE_OpenFailedError\u001b[0m: ./data/landsat/LC08_L1TP_020032_20240727_20240801_02_T1_B4.TIF: No such file or directory",
      "\nDuring handling of the above exception, another exception occurred:\n",
      "\u001b[1;31mRasterioIOError\u001b[0m                           Traceback (most recent call last)",
      "Cell \u001b[1;32mIn[15], line 37\u001b[0m\n\u001b[0;32m     34\u001b[0m     \u001b[38;5;28mprint\u001b[39m(\u001b[38;5;124m\"\u001b[39m\u001b[38;5;124mResults saved. UHI detection with OSM overlay completed.\u001b[39m\u001b[38;5;124m\"\u001b[39m)\n\u001b[0;32m     36\u001b[0m \u001b[38;5;28;01mif\u001b[39;00m \u001b[38;5;18m__name__\u001b[39m \u001b[38;5;241m==\u001b[39m \u001b[38;5;124m\"\u001b[39m\u001b[38;5;124m__main__\u001b[39m\u001b[38;5;124m\"\u001b[39m:\n\u001b[1;32m---> 37\u001b[0m     \u001b[43mmain\u001b[49m\u001b[43m(\u001b[49m\u001b[43m)\u001b[49m\n",
      "Cell \u001b[1;32mIn[15], line 18\u001b[0m, in \u001b[0;36mmain\u001b[1;34m()\u001b[0m\n\u001b[0;32m     16\u001b[0m \u001b[38;5;28mprint\u001b[39m(\u001b[38;5;124m\"\u001b[39m\u001b[38;5;124mCalculating NDVI...\u001b[39m\u001b[38;5;124m\"\u001b[39m)\n\u001b[0;32m     17\u001b[0m ndvi_output_path \u001b[38;5;241m=\u001b[39m os\u001b[38;5;241m.\u001b[39mpath\u001b[38;5;241m.\u001b[39mjoin(processed_dir, \u001b[38;5;124m'\u001b[39m\u001b[38;5;124mndvi.tif\u001b[39m\u001b[38;5;124m'\u001b[39m)\n\u001b[1;32m---> 18\u001b[0m ndvi \u001b[38;5;241m=\u001b[39m \u001b[43mcalculate_ndvi\u001b[49m\u001b[43m(\u001b[49m\u001b[43mred_band_path\u001b[49m\u001b[43m,\u001b[49m\u001b[43m \u001b[49m\u001b[43mnir_band_path\u001b[49m\u001b[43m,\u001b[49m\u001b[43m \u001b[49m\u001b[43mndvi_output_path\u001b[49m\u001b[43m)\u001b[49m\n\u001b[0;32m     20\u001b[0m \u001b[38;5;28mprint\u001b[39m(\u001b[38;5;124m\"\u001b[39m\u001b[38;5;124mCalculating LST...\u001b[39m\u001b[38;5;124m\"\u001b[39m)\n\u001b[0;32m     21\u001b[0m lst_output_path \u001b[38;5;241m=\u001b[39m os\u001b[38;5;241m.\u001b[39mpath\u001b[38;5;241m.\u001b[39mjoin(processed_dir, \u001b[38;5;124m'\u001b[39m\u001b[38;5;124mlst.tif\u001b[39m\u001b[38;5;124m'\u001b[39m)\n",
      "Cell \u001b[1;32mIn[2], line 2\u001b[0m, in \u001b[0;36mcalculate_ndvi\u001b[1;34m(red_band_path, nir_band_path, output_path)\u001b[0m\n\u001b[0;32m      1\u001b[0m \u001b[38;5;28;01mdef\u001b[39;00m \u001b[38;5;21mcalculate_ndvi\u001b[39m(red_band_path, nir_band_path, output_path):\n\u001b[1;32m----> 2\u001b[0m     \u001b[38;5;28;01mwith\u001b[39;00m \u001b[43mrasterio\u001b[49m\u001b[38;5;241;43m.\u001b[39;49m\u001b[43mopen\u001b[49m\u001b[43m(\u001b[49m\u001b[43mred_band_path\u001b[49m\u001b[43m)\u001b[49m \u001b[38;5;28;01mas\u001b[39;00m red_src:\n\u001b[0;32m      3\u001b[0m         red \u001b[38;5;241m=\u001b[39m red_src\u001b[38;5;241m.\u001b[39mread(\u001b[38;5;241m1\u001b[39m)\u001b[38;5;241m.\u001b[39mastype(\u001b[38;5;28mfloat\u001b[39m)\n\u001b[0;32m      4\u001b[0m         profile \u001b[38;5;241m=\u001b[39m red_src\u001b[38;5;241m.\u001b[39mprofile\n",
      "File \u001b[1;32m~\\AppData\\Local\\Packages\\PythonSoftwareFoundation.Python.3.12_qbz5n2kfra8p0\\LocalCache\\local-packages\\Python312\\site-packages\\rasterio\\env.py:463\u001b[0m, in \u001b[0;36mensure_env_with_credentials.<locals>.wrapper\u001b[1;34m(*args, **kwds)\u001b[0m\n\u001b[0;32m    460\u001b[0m     session \u001b[38;5;241m=\u001b[39m DummySession()\n\u001b[0;32m    462\u001b[0m \u001b[38;5;28;01mwith\u001b[39;00m env_ctor(session\u001b[38;5;241m=\u001b[39msession):\n\u001b[1;32m--> 463\u001b[0m     \u001b[38;5;28;01mreturn\u001b[39;00m \u001b[43mf\u001b[49m\u001b[43m(\u001b[49m\u001b[38;5;241;43m*\u001b[39;49m\u001b[43margs\u001b[49m\u001b[43m,\u001b[49m\u001b[43m \u001b[49m\u001b[38;5;241;43m*\u001b[39;49m\u001b[38;5;241;43m*\u001b[39;49m\u001b[43mkwds\u001b[49m\u001b[43m)\u001b[49m\n",
      "File \u001b[1;32m~\\AppData\\Local\\Packages\\PythonSoftwareFoundation.Python.3.12_qbz5n2kfra8p0\\LocalCache\\local-packages\\Python312\\site-packages\\rasterio\\__init__.py:367\u001b[0m, in \u001b[0;36mopen\u001b[1;34m(fp, mode, driver, width, height, count, crs, transform, dtype, nodata, sharing, opener, **kwargs)\u001b[0m\n\u001b[0;32m    364\u001b[0m     path \u001b[38;5;241m=\u001b[39m _parse_path(raw_dataset_path)\n\u001b[0;32m    366\u001b[0m \u001b[38;5;28;01mif\u001b[39;00m mode \u001b[38;5;241m==\u001b[39m \u001b[38;5;124m\"\u001b[39m\u001b[38;5;124mr\u001b[39m\u001b[38;5;124m\"\u001b[39m:\n\u001b[1;32m--> 367\u001b[0m     dataset \u001b[38;5;241m=\u001b[39m \u001b[43mDatasetReader\u001b[49m\u001b[43m(\u001b[49m\u001b[43mpath\u001b[49m\u001b[43m,\u001b[49m\u001b[43m \u001b[49m\u001b[43mdriver\u001b[49m\u001b[38;5;241;43m=\u001b[39;49m\u001b[43mdriver\u001b[49m\u001b[43m,\u001b[49m\u001b[43m \u001b[49m\u001b[43msharing\u001b[49m\u001b[38;5;241;43m=\u001b[39;49m\u001b[43msharing\u001b[49m\u001b[43m,\u001b[49m\u001b[43m \u001b[49m\u001b[38;5;241;43m*\u001b[39;49m\u001b[38;5;241;43m*\u001b[39;49m\u001b[43mkwargs\u001b[49m\u001b[43m)\u001b[49m\n\u001b[0;32m    368\u001b[0m \u001b[38;5;28;01melif\u001b[39;00m mode \u001b[38;5;241m==\u001b[39m \u001b[38;5;124m\"\u001b[39m\u001b[38;5;124mr+\u001b[39m\u001b[38;5;124m\"\u001b[39m:\n\u001b[0;32m    369\u001b[0m     dataset \u001b[38;5;241m=\u001b[39m get_writer_for_path(path, driver\u001b[38;5;241m=\u001b[39mdriver)(\n\u001b[0;32m    370\u001b[0m         path, mode, driver\u001b[38;5;241m=\u001b[39mdriver, sharing\u001b[38;5;241m=\u001b[39msharing, \u001b[38;5;241m*\u001b[39m\u001b[38;5;241m*\u001b[39mkwargs\n\u001b[0;32m    371\u001b[0m     )\n",
      "File \u001b[1;32mrasterio\\\\_base.pyx:312\u001b[0m, in \u001b[0;36mrasterio._base.DatasetBase.__init__\u001b[1;34m()\u001b[0m\n",
      "\u001b[1;31mRasterioIOError\u001b[0m: ./data/landsat/LC08_L1TP_020032_20240727_20240801_02_T1_B4.TIF: No such file or directory"
     ]
    }
   ],
   "source": [
    "def main():\n",
    "    data_dir = 'data/landsat/'\n",
    "    processed_dir = 'data/processed/random_forest'\n",
    "    results_dir = 'data/results/random_forest/'\n",
    "    visualizations_dir = 'visualization/random_forest/'\n",
    "    \n",
    "    os.makedirs(processed_dir, exist_ok=True)\n",
    "    os.makedirs(results_dir, exist_ok=True)\n",
    "    os.makedirs(visualizations_dir, exist_ok=True)\n",
    "    \n",
    "    red_band_path = os.path.join(data_dir, 'LC08_L1TP_020032_20240727_20240801_02_T1_B4.TIF')\n",
    "    nir_band_path = os.path.join(data_dir, 'LC08_L1TP_020032_20240727_20240801_02_T1_B5.TIF')\n",
    "    thermal_band_path = os.path.join(data_dir, 'LC08_L1TP_020032_20240727_20240801_02_T1_B10.TIF')\n",
    "    osm_boundary_path = 'data/osm/columbus_boundary.shp'\n",
    "    \n",
    "    print(\"Calculating NDVI...\")\n",
    "    ndvi_output_path = os.path.join(processed_dir, 'ndvi.tif')\n",
    "    ndvi = calculate_ndvi(red_band_path, nir_band_path, ndvi_output_path)\n",
    "    \n",
    "    print(\"Calculating LST...\")\n",
    "    lst_output_path = os.path.join(processed_dir, 'lst.tif')\n",
    "    lst = calculate_lst(thermal_band_path, lst_output_path)\n",
    "    \n",
    "    print(\"Performing UHI detection...\")\n",
    "    results = random_forest_uhi_detection(lst, ndvi)\n",
    "    \n",
    "    print(\"Loading OSM boundary...\")\n",
    "    osm_boundary = load_osm_boundary(osm_boundary_path)\n",
    "    \n",
    "    print(\"Overlaying UHI results on OSM boundary and saving as .TIF...\")\n",
    "    uhi_output_path = os.path.join(results_dir, 'uhi_detection_rf_with_osm.tif')\n",
    "    overlay_uhis_on_osm(results['uhi_mask'], osm_boundary, uhi_output_path)\n",
    "\n",
    "    print(\"Results saved. UHI detection with OSM overlay completed.\")\n",
    "\n",
    "if __name__ == \"__main__\":\n",
    "    main()"
   ]
  },
  {
   "cell_type": "code",
   "execution_count": null,
   "metadata": {},
   "outputs": [],
   "source": []
  }
 ],
 "metadata": {
  "kernelspec": {
   "display_name": "Python 3",
   "language": "python",
   "name": "python3"
  },
  "language_info": {
   "codemirror_mode": {
    "name": "ipython",
    "version": 3
   },
   "file_extension": ".py",
   "mimetype": "text/x-python",
   "name": "python",
   "nbconvert_exporter": "python",
   "pygments_lexer": "ipython3",
   "version": "3.12.7"
  }
 },
 "nbformat": 4,
 "nbformat_minor": 2
}
